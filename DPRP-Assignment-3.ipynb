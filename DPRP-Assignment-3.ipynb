{
 "cells": [
  {
   "cell_type": "markdown",
   "metadata": {},
   "source": [
    "# Data Processing in R and Python - Assignment 3\n",
    "\n",
    "## Imports"
   ]
  },
  {
   "cell_type": "code",
   "execution_count": 1,
   "metadata": {
    "collapsed": true
   },
   "outputs": [],
   "source": [
    "import pandas as pd\n",
    "import numpy as np\n",
    "import os\n",
    "import os.path\n",
    "import sqlite3\n",
    "import tempfile"
   ]
  },
  {
   "cell_type": "markdown",
   "metadata": {},
   "source": [
    "## Reading data"
   ]
  },
  {
   "cell_type": "code",
   "execution_count": 2,
   "metadata": {
    "pycharm": {
     "name": "#%%\n"
    }
   },
   "outputs": [],
   "source": [
    "Tags = pd.read_csv(\"/Users/michalderej/Downloads/Tags.csv\")\n",
    "Comments = pd.read_csv(\"/Users/michalderej/Downloads/Comments.csv\")\n",
    "PostLinks = pd.read_csv(\"/Users/michalderej/Downloads/PostLinks.csv\")\n",
    "Posts = pd.read_csv(\"/Users/michalderej/Downloads/Posts.csv\")\n",
    "Badges = pd.read_csv(\"/Users/michalderej/Downloads/Badges.csv\")\n",
    "Users = pd.read_csv(\"/Users/michalderej/Downloads/Users.csv\")\n",
    "Votes = pd.read_csv(\"/Users/michalderej/Downloads/Votes.csv\")"
   ]
  },
  {
   "cell_type": "markdown",
   "metadata": {},
   "source": [
    "## Creating a database and importing data frames\n",
    "In this part, we create a simple database that will store data frames so that Pandas SQL interpreter can read them."
   ]
  },
  {
   "cell_type": "code",
   "execution_count": 3,
   "metadata": {
    "pycharm": {
     "name": "#%%\n"
    }
   },
   "outputs": [],
   "source": [
    "db = os.path.join(tempfile.mkdtemp(), 'example.db')\n",
    "\n",
    "if os.path.isfile(db):\n",
    "    os.remove(db)\n",
    "\n",
    "# Creating connection to db\n",
    "conn = sqlite3.connect(db)\n",
    "\n",
    "# Importing data frames to db\n",
    "Badges.to_sql(\"Badges\", conn)\n",
    "PostLinks.to_sql(\"PostLinks\", conn)\n",
    "Posts.to_sql(\"Posts\", conn)\n",
    "Tags.to_sql(\"Tags\", conn)\n",
    "Users.to_sql(\"Users\", conn)\n",
    "Votes.to_sql(\"Votes\", conn)"
   ]
  },
  {
   "cell_type": "markdown",
   "metadata": {},
   "source": [
    "## First task\n",
    "### 1.1 - SQL query"
   ]
  },
  {
   "cell_type": "code",
   "execution_count": 4,
   "metadata": {
    "pycharm": {
     "name": "#%%\n"
    }
   },
   "outputs": [
    {
     "name": "stdout",
     "output_type": "stream",
     "text": [
      "               Name  Number  BestClass\n",
      "0    Autobiographer   24564          3\n",
      "1           Student   23930          3\n",
      "2         Supporter   17826          3\n",
      "3  Popular Question   14840          3\n",
      "4       Nice Answer   12406          3\n",
      "5          Yearling   11281          2\n",
      "6           Teacher    9746          3\n",
      "7            Editor    9115          3\n",
      "8  Notable Question    8613          2\n",
      "9           Scholar    7224          3\n"
     ]
    }
   ],
   "source": [
    "sql_query = pd.read_sql_query(\"\"\"\n",
    "SELECT\n",
    "    Name,\n",
    "    COUNT(*) AS Number,\n",
    "    MIN(Class) AS BestClass\n",
    "FROM Badges\n",
    "GROUP BY Name\n",
    "ORDER BY Number DESC LIMIT 10\n",
    "\"\"\", conn)\n",
    "print(sql_query)"
   ]
  },
  {
   "cell_type": "markdown",
   "metadata": {},
   "source": [
    "### 1.2 - Pandas query\n",
    "First, let's see how the data frame looks."
   ]
  },
  {
   "cell_type": "code",
   "execution_count": 5,
   "metadata": {
    "pycharm": {
     "name": "#%%\n"
    }
   },
   "outputs": [
    {
     "data": {
      "text/html": [
       "<div>\n",
       "<style scoped>\n",
       "    .dataframe tbody tr th:only-of-type {\n",
       "        vertical-align: middle;\n",
       "    }\n",
       "\n",
       "    .dataframe tbody tr th {\n",
       "        vertical-align: top;\n",
       "    }\n",
       "\n",
       "    .dataframe thead th {\n",
       "        text-align: right;\n",
       "    }\n",
       "</style>\n",
       "<table border=\"1\" class=\"dataframe\">\n",
       "  <thead>\n",
       "    <tr style=\"text-align: right;\">\n",
       "      <th></th>\n",
       "      <th>Id</th>\n",
       "      <th>UserId</th>\n",
       "      <th>Name</th>\n",
       "      <th>Date</th>\n",
       "      <th>Class</th>\n",
       "      <th>TagBased</th>\n",
       "    </tr>\n",
       "  </thead>\n",
       "  <tbody>\n",
       "    <tr>\n",
       "      <th>0</th>\n",
       "      <td>1</td>\n",
       "      <td>2</td>\n",
       "      <td>Autobiographer</td>\n",
       "      <td>2011-06-21T20:16:48.910</td>\n",
       "      <td>3</td>\n",
       "      <td>False</td>\n",
       "    </tr>\n",
       "    <tr>\n",
       "      <th>1</th>\n",
       "      <td>2</td>\n",
       "      <td>3</td>\n",
       "      <td>Autobiographer</td>\n",
       "      <td>2011-06-21T20:16:48.910</td>\n",
       "      <td>3</td>\n",
       "      <td>False</td>\n",
       "    </tr>\n",
       "    <tr>\n",
       "      <th>2</th>\n",
       "      <td>3</td>\n",
       "      <td>4</td>\n",
       "      <td>Autobiographer</td>\n",
       "      <td>2011-06-21T20:16:48.910</td>\n",
       "      <td>3</td>\n",
       "      <td>False</td>\n",
       "    </tr>\n",
       "    <tr>\n",
       "      <th>3</th>\n",
       "      <td>4</td>\n",
       "      <td>6</td>\n",
       "      <td>Autobiographer</td>\n",
       "      <td>2011-06-21T20:21:49.157</td>\n",
       "      <td>3</td>\n",
       "      <td>False</td>\n",
       "    </tr>\n",
       "    <tr>\n",
       "      <th>4</th>\n",
       "      <td>5</td>\n",
       "      <td>8</td>\n",
       "      <td>Autobiographer</td>\n",
       "      <td>2011-06-21T20:21:49.157</td>\n",
       "      <td>3</td>\n",
       "      <td>False</td>\n",
       "    </tr>\n",
       "  </tbody>\n",
       "</table>\n",
       "</div>"
      ],
      "text/plain": [
       "   Id  UserId            Name                     Date  Class  TagBased\n",
       "0   1       2  Autobiographer  2011-06-21T20:16:48.910      3     False\n",
       "1   2       3  Autobiographer  2011-06-21T20:16:48.910      3     False\n",
       "2   3       4  Autobiographer  2011-06-21T20:16:48.910      3     False\n",
       "3   4       6  Autobiographer  2011-06-21T20:21:49.157      3     False\n",
       "4   5       8  Autobiographer  2011-06-21T20:21:49.157      3     False"
      ]
     },
     "execution_count": 5,
     "metadata": {},
     "output_type": "execute_result"
    }
   ],
   "source": [
    "Badges.head()"
   ]
  },
  {
   "cell_type": "markdown",
   "metadata": {},
   "source": [
    "Now, we can create a function that will select only the needed data. First, we choose two columns that we will need: `Name` and `Class`. Then, we create a count of every required value and place it in a `Number` column. Next, we populate the `BestClass` column with minimum `Class` values for each row. The following step is to drop duplicates, once again, select the required columns and group and sort them according to the SQL query. In the end, we reset the index and select only the top 10 values."
   ]
  },
  {
   "cell_type": "code",
   "execution_count": 72,
   "metadata": {
    "pycharm": {
     "name": "#%%\n"
    }
   },
   "outputs": [
    {
     "name": "stdout",
     "output_type": "stream",
     "text": [
      "               Name  Number  BestClass\n",
      "0    Autobiographer   24564          3\n",
      "1           Student   23930          3\n",
      "2         Supporter   17826          3\n",
      "3  Popular Question   14840          3\n",
      "4       Nice Answer   12406          3\n",
      "5          Yearling   11281          2\n",
      "6           Teacher    9746          3\n",
      "7            Editor    9115          3\n",
      "8  Notable Question    8613          2\n",
      "9           Scholar    7224          3\n"
     ]
    }
   ],
   "source": [
    "df = Badges[[\"Name\", \"Class\"]]\n",
    "df[\"Number\"] = df[\"Name\"].map(df[\"Name\"].value_counts())\n",
    "df[\"BestClass\"] = df.groupby(\"Name\")[\"Class\"].transform(\"min\")\n",
    "df = df.drop_duplicates()\n",
    "df = df[[\"Name\", \"Number\", \"BestClass\"]].groupby(by=[\"Name\"]).sum()\n",
    "df = df.sort_values(by=[\"Number\"], ascending=False).head(10)\n",
    "df = df.reset_index()\n",
    "print(df)"
   ]
  },
  {
   "cell_type": "markdown",
   "metadata": {},
   "source": [
    "Let's compare the results:"
   ]
  },
  {
   "cell_type": "code",
   "execution_count": 73,
   "metadata": {
    "pycharm": {
     "name": "#%%\n"
    }
   },
   "outputs": [
    {
     "name": "stdout",
     "output_type": "stream",
     "text": [
      "True\n"
     ]
    }
   ],
   "source": [
    "print(sql_query.equals(df))"
   ]
  },
  {
   "cell_type": "markdown",
   "metadata": {},
   "source": [
    "## Second task\n",
    "### 2.1 - SQL query"
   ]
  },
  {
   "cell_type": "code",
   "execution_count": 74,
   "metadata": {
    "pycharm": {
     "name": "#%%\n"
    }
   },
   "outputs": [
    {
     "name": "stdout",
     "output_type": "stream",
     "text": [
      "                        Location  Count\n",
      "0      Christchurch, New Zealand   2765\n",
      "1                   New York, NY   1788\n",
      "2         London, United Kingdom   1708\n",
      "3                             UK   1590\n",
      "4  Sunshine Coast QLD, Australia   1550\n",
      "5                      Australia   1183\n",
      "6              Vancouver, Canada    967\n",
      "7                    Netherlands    935\n",
      "8             on the server farm    924\n",
      "9                   Pennsylvania    921\n"
     ]
    }
   ],
   "source": [
    "sql_query = pd.read_sql_query(\"\"\"\n",
    "SELECT Location, COUNT(*) AS Count\n",
    "FROM (\n",
    "    SELECT Posts.OwnerUserId, Users.Id, Users.Location\n",
    "    FROM Users\n",
    "    JOIN Posts ON Users.Id = Posts.OwnerUserId\n",
    ")\n",
    "WHERE Location NOT IN ('')\n",
    "GROUP BY Location\n",
    "ORDER BY Count DESC\n",
    "LIMIT 10\n",
    "\"\"\", conn)\n",
    "print(sql_query)"
   ]
  },
  {
   "cell_type": "markdown",
   "metadata": {},
   "source": [
    "### 2.2 - Pandas query\n",
    "First, let's see how the data frames look."
   ]
  },
  {
   "cell_type": "code",
   "execution_count": 78,
   "metadata": {
    "pycharm": {
     "name": "#%%\n"
    }
   },
   "outputs": [
    {
     "data": {
      "text/html": [
       "<div>\n",
       "<style scoped>\n",
       "    .dataframe tbody tr th:only-of-type {\n",
       "        vertical-align: middle;\n",
       "    }\n",
       "\n",
       "    .dataframe tbody tr th {\n",
       "        vertical-align: top;\n",
       "    }\n",
       "\n",
       "    .dataframe thead th {\n",
       "        text-align: right;\n",
       "    }\n",
       "</style>\n",
       "<table border=\"1\" class=\"dataframe\">\n",
       "  <thead>\n",
       "    <tr style=\"text-align: right;\">\n",
       "      <th></th>\n",
       "      <th>Id</th>\n",
       "      <th>PostTypeId</th>\n",
       "      <th>AcceptedAnswerId</th>\n",
       "      <th>CreationDate</th>\n",
       "      <th>Score</th>\n",
       "      <th>ViewCount</th>\n",
       "      <th>Body</th>\n",
       "      <th>OwnerUserId</th>\n",
       "      <th>LastEditorUserId</th>\n",
       "      <th>LastEditDate</th>\n",
       "      <th>...</th>\n",
       "      <th>Tags</th>\n",
       "      <th>AnswerCount</th>\n",
       "      <th>CommentCount</th>\n",
       "      <th>ClosedDate</th>\n",
       "      <th>ContentLicense</th>\n",
       "      <th>FavoriteCount</th>\n",
       "      <th>ParentId</th>\n",
       "      <th>LastEditorDisplayName</th>\n",
       "      <th>CommunityOwnedDate</th>\n",
       "      <th>OwnerDisplayName</th>\n",
       "    </tr>\n",
       "  </thead>\n",
       "  <tbody>\n",
       "    <tr>\n",
       "      <th>0</th>\n",
       "      <td>1</td>\n",
       "      <td>1</td>\n",
       "      <td>393.0</td>\n",
       "      <td>2011-06-21T20:19:34.730</td>\n",
       "      <td>8</td>\n",
       "      <td>578.0</td>\n",
       "      <td>&lt;p&gt;My fiancée and I are looking for a good Car...</td>\n",
       "      <td>9.0</td>\n",
       "      <td>101.0</td>\n",
       "      <td>2011-12-28T21:36:43.910</td>\n",
       "      <td>...</td>\n",
       "      <td>&lt;caribbean&gt;&lt;cruising&gt;&lt;vacations&gt;</td>\n",
       "      <td>4.0</td>\n",
       "      <td>4</td>\n",
       "      <td>2013-02-25T23:52:47.953</td>\n",
       "      <td>CC BY-SA 3.0</td>\n",
       "      <td>NaN</td>\n",
       "      <td>NaN</td>\n",
       "      <td>NaN</td>\n",
       "      <td>NaN</td>\n",
       "      <td>NaN</td>\n",
       "    </tr>\n",
       "    <tr>\n",
       "      <th>1</th>\n",
       "      <td>2</td>\n",
       "      <td>1</td>\n",
       "      <td>NaN</td>\n",
       "      <td>2011-06-21T20:22:33.760</td>\n",
       "      <td>43</td>\n",
       "      <td>3255.0</td>\n",
       "      <td>&lt;p&gt;This was one of our definition questions, b...</td>\n",
       "      <td>13.0</td>\n",
       "      <td>19400.0</td>\n",
       "      <td>2021-04-27T00:47:20.470</td>\n",
       "      <td>...</td>\n",
       "      <td>&lt;guides&gt;&lt;extreme-tourism&gt;&lt;amazon-river&gt;&lt;amazon...</td>\n",
       "      <td>8.0</td>\n",
       "      <td>4</td>\n",
       "      <td>NaN</td>\n",
       "      <td>CC BY-SA 4.0</td>\n",
       "      <td>5.0</td>\n",
       "      <td>NaN</td>\n",
       "      <td>NaN</td>\n",
       "      <td>NaN</td>\n",
       "      <td>NaN</td>\n",
       "    </tr>\n",
       "    <tr>\n",
       "      <th>2</th>\n",
       "      <td>3</td>\n",
       "      <td>2</td>\n",
       "      <td>NaN</td>\n",
       "      <td>2011-06-21T20:24:28.080</td>\n",
       "      <td>15</td>\n",
       "      <td>NaN</td>\n",
       "      <td>&lt;p&gt;One way would be to go through an Adventure...</td>\n",
       "      <td>9.0</td>\n",
       "      <td>NaN</td>\n",
       "      <td>NaN</td>\n",
       "      <td>...</td>\n",
       "      <td>NaN</td>\n",
       "      <td>NaN</td>\n",
       "      <td>2</td>\n",
       "      <td>NaN</td>\n",
       "      <td>CC BY-SA 3.0</td>\n",
       "      <td>NaN</td>\n",
       "      <td>2.0</td>\n",
       "      <td>NaN</td>\n",
       "      <td>NaN</td>\n",
       "      <td>NaN</td>\n",
       "    </tr>\n",
       "    <tr>\n",
       "      <th>3</th>\n",
       "      <td>4</td>\n",
       "      <td>1</td>\n",
       "      <td>NaN</td>\n",
       "      <td>2011-06-21T20:24:57.160</td>\n",
       "      <td>8</td>\n",
       "      <td>291.0</td>\n",
       "      <td>&lt;p&gt;Singapore Airlines has an all-business clas...</td>\n",
       "      <td>24.0</td>\n",
       "      <td>693.0</td>\n",
       "      <td>2013-01-09T09:55:22.743</td>\n",
       "      <td>...</td>\n",
       "      <td>&lt;loyalty-programs&gt;&lt;routes&gt;&lt;ewr&gt;&lt;singapore-airl...</td>\n",
       "      <td>1.0</td>\n",
       "      <td>1</td>\n",
       "      <td>NaN</td>\n",
       "      <td>CC BY-SA 3.0</td>\n",
       "      <td>NaN</td>\n",
       "      <td>NaN</td>\n",
       "      <td>NaN</td>\n",
       "      <td>NaN</td>\n",
       "      <td>NaN</td>\n",
       "    </tr>\n",
       "    <tr>\n",
       "      <th>4</th>\n",
       "      <td>5</td>\n",
       "      <td>1</td>\n",
       "      <td>770.0</td>\n",
       "      <td>2011-06-21T20:25:56.787</td>\n",
       "      <td>14</td>\n",
       "      <td>476.0</td>\n",
       "      <td>&lt;p&gt;Another definition question that interested...</td>\n",
       "      <td>13.0</td>\n",
       "      <td>101.0</td>\n",
       "      <td>2011-12-28T21:36:18.230</td>\n",
       "      <td>...</td>\n",
       "      <td>&lt;romania&gt;&lt;transportation&gt;</td>\n",
       "      <td>5.0</td>\n",
       "      <td>0</td>\n",
       "      <td>NaN</td>\n",
       "      <td>CC BY-SA 3.0</td>\n",
       "      <td>2.0</td>\n",
       "      <td>NaN</td>\n",
       "      <td>NaN</td>\n",
       "      <td>NaN</td>\n",
       "      <td>NaN</td>\n",
       "    </tr>\n",
       "  </tbody>\n",
       "</table>\n",
       "<p>5 rows × 22 columns</p>\n",
       "</div>"
      ],
      "text/plain": [
       "   Id  PostTypeId  AcceptedAnswerId             CreationDate  Score  \\\n",
       "0   1           1             393.0  2011-06-21T20:19:34.730      8   \n",
       "1   2           1               NaN  2011-06-21T20:22:33.760     43   \n",
       "2   3           2               NaN  2011-06-21T20:24:28.080     15   \n",
       "3   4           1               NaN  2011-06-21T20:24:57.160      8   \n",
       "4   5           1             770.0  2011-06-21T20:25:56.787     14   \n",
       "\n",
       "   ViewCount                                               Body  OwnerUserId  \\\n",
       "0      578.0  <p>My fiancée and I are looking for a good Car...          9.0   \n",
       "1     3255.0  <p>This was one of our definition questions, b...         13.0   \n",
       "2        NaN  <p>One way would be to go through an Adventure...          9.0   \n",
       "3      291.0  <p>Singapore Airlines has an all-business clas...         24.0   \n",
       "4      476.0  <p>Another definition question that interested...         13.0   \n",
       "\n",
       "   LastEditorUserId             LastEditDate  ...  \\\n",
       "0             101.0  2011-12-28T21:36:43.910  ...   \n",
       "1           19400.0  2021-04-27T00:47:20.470  ...   \n",
       "2               NaN                      NaN  ...   \n",
       "3             693.0  2013-01-09T09:55:22.743  ...   \n",
       "4             101.0  2011-12-28T21:36:18.230  ...   \n",
       "\n",
       "                                                Tags AnswerCount CommentCount  \\\n",
       "0                   <caribbean><cruising><vacations>         4.0            4   \n",
       "1  <guides><extreme-tourism><amazon-river><amazon...         8.0            4   \n",
       "2                                                NaN         NaN            2   \n",
       "3  <loyalty-programs><routes><ewr><singapore-airl...         1.0            1   \n",
       "4                          <romania><transportation>         5.0            0   \n",
       "\n",
       "                ClosedDate  ContentLicense FavoriteCount ParentId  \\\n",
       "0  2013-02-25T23:52:47.953    CC BY-SA 3.0           NaN      NaN   \n",
       "1                      NaN    CC BY-SA 4.0           5.0      NaN   \n",
       "2                      NaN    CC BY-SA 3.0           NaN      2.0   \n",
       "3                      NaN    CC BY-SA 3.0           NaN      NaN   \n",
       "4                      NaN    CC BY-SA 3.0           2.0      NaN   \n",
       "\n",
       "   LastEditorDisplayName  CommunityOwnedDate OwnerDisplayName  \n",
       "0                    NaN                 NaN              NaN  \n",
       "1                    NaN                 NaN              NaN  \n",
       "2                    NaN                 NaN              NaN  \n",
       "3                    NaN                 NaN              NaN  \n",
       "4                    NaN                 NaN              NaN  \n",
       "\n",
       "[5 rows x 22 columns]"
      ]
     },
     "execution_count": 78,
     "metadata": {},
     "output_type": "execute_result"
    }
   ],
   "source": [
    "Posts.head()"
   ]
  },
  {
   "cell_type": "code",
   "execution_count": 77,
   "metadata": {
    "pycharm": {
     "name": "#%%\n"
    }
   },
   "outputs": [
    {
     "data": {
      "text/html": [
       "<div>\n",
       "<style scoped>\n",
       "    .dataframe tbody tr th:only-of-type {\n",
       "        vertical-align: middle;\n",
       "    }\n",
       "\n",
       "    .dataframe tbody tr th {\n",
       "        vertical-align: top;\n",
       "    }\n",
       "\n",
       "    .dataframe thead th {\n",
       "        text-align: right;\n",
       "    }\n",
       "</style>\n",
       "<table border=\"1\" class=\"dataframe\">\n",
       "  <thead>\n",
       "    <tr style=\"text-align: right;\">\n",
       "      <th></th>\n",
       "      <th>Id</th>\n",
       "      <th>Reputation</th>\n",
       "      <th>CreationDate</th>\n",
       "      <th>DisplayName</th>\n",
       "      <th>LastAccessDate</th>\n",
       "      <th>WebsiteUrl</th>\n",
       "      <th>Location</th>\n",
       "      <th>AboutMe</th>\n",
       "      <th>Views</th>\n",
       "      <th>UpVotes</th>\n",
       "      <th>DownVotes</th>\n",
       "      <th>AccountId</th>\n",
       "    </tr>\n",
       "  </thead>\n",
       "  <tbody>\n",
       "    <tr>\n",
       "      <th>0</th>\n",
       "      <td>-1</td>\n",
       "      <td>1</td>\n",
       "      <td>2011-06-21T15:16:44.253</td>\n",
       "      <td>Community</td>\n",
       "      <td>2011-06-21T15:16:44.253</td>\n",
       "      <td>http://meta.stackexchange.com/</td>\n",
       "      <td>on the server farm</td>\n",
       "      <td>&lt;p&gt;Hi, I'm not really a person.&lt;/p&gt;\\n\\n&lt;p&gt;I'm ...</td>\n",
       "      <td>301</td>\n",
       "      <td>6309</td>\n",
       "      <td>24166</td>\n",
       "      <td>-1.0</td>\n",
       "    </tr>\n",
       "    <tr>\n",
       "      <th>1</th>\n",
       "      <td>2</td>\n",
       "      <td>101</td>\n",
       "      <td>2011-06-21T20:10:03.720</td>\n",
       "      <td>Geoff Dalgas</td>\n",
       "      <td>2017-10-09T14:25:03.613</td>\n",
       "      <td>http://stackoverflow.com</td>\n",
       "      <td>Corvallis, OR</td>\n",
       "      <td>&lt;p&gt;Dev #2 who helped create Stack Overflow cur...</td>\n",
       "      <td>41</td>\n",
       "      <td>1</td>\n",
       "      <td>0</td>\n",
       "      <td>2.0</td>\n",
       "    </tr>\n",
       "    <tr>\n",
       "      <th>2</th>\n",
       "      <td>3</td>\n",
       "      <td>101</td>\n",
       "      <td>2011-06-21T20:11:02.490</td>\n",
       "      <td>Nick Craver</td>\n",
       "      <td>2019-11-13T23:54:04.630</td>\n",
       "      <td>https://nickcraver.com/blog/</td>\n",
       "      <td>Winston-Salem, NC</td>\n",
       "      <td>&lt;p&gt;I am the Architecture Lead for Stack Overfl...</td>\n",
       "      <td>22</td>\n",
       "      <td>1</td>\n",
       "      <td>0</td>\n",
       "      <td>7598.0</td>\n",
       "    </tr>\n",
       "    <tr>\n",
       "      <th>3</th>\n",
       "      <td>4</td>\n",
       "      <td>101</td>\n",
       "      <td>2011-06-21T20:12:21.223</td>\n",
       "      <td>Emmett</td>\n",
       "      <td>2019-09-05T02:57:12.997</td>\n",
       "      <td>http://minesweeperonline.com</td>\n",
       "      <td>San Francisco, CA</td>\n",
       "      <td>&lt;p&gt;co-founder of &lt;a href=\"https://airtable.com...</td>\n",
       "      <td>15</td>\n",
       "      <td>1</td>\n",
       "      <td>0</td>\n",
       "      <td>1998.0</td>\n",
       "    </tr>\n",
       "    <tr>\n",
       "      <th>4</th>\n",
       "      <td>5</td>\n",
       "      <td>101</td>\n",
       "      <td>2011-06-21T20:15:31.410</td>\n",
       "      <td>Kevin Montrose</td>\n",
       "      <td>2019-05-21T18:43:29.443</td>\n",
       "      <td>https://kevinmontrose.com</td>\n",
       "      <td>New York, NY, United States</td>\n",
       "      <td>&lt;p&gt;&lt;a href=\"http://blog.stackoverflow.com/2010...</td>\n",
       "      <td>14</td>\n",
       "      <td>3</td>\n",
       "      <td>0</td>\n",
       "      <td>29738.0</td>\n",
       "    </tr>\n",
       "  </tbody>\n",
       "</table>\n",
       "</div>"
      ],
      "text/plain": [
       "   Id  Reputation             CreationDate     DisplayName  \\\n",
       "0  -1           1  2011-06-21T15:16:44.253       Community   \n",
       "1   2         101  2011-06-21T20:10:03.720    Geoff Dalgas   \n",
       "2   3         101  2011-06-21T20:11:02.490     Nick Craver   \n",
       "3   4         101  2011-06-21T20:12:21.223          Emmett   \n",
       "4   5         101  2011-06-21T20:15:31.410  Kevin Montrose   \n",
       "\n",
       "            LastAccessDate                      WebsiteUrl  \\\n",
       "0  2011-06-21T15:16:44.253  http://meta.stackexchange.com/   \n",
       "1  2017-10-09T14:25:03.613        http://stackoverflow.com   \n",
       "2  2019-11-13T23:54:04.630    https://nickcraver.com/blog/   \n",
       "3  2019-09-05T02:57:12.997    http://minesweeperonline.com   \n",
       "4  2019-05-21T18:43:29.443       https://kevinmontrose.com   \n",
       "\n",
       "                      Location  \\\n",
       "0           on the server farm   \n",
       "1                Corvallis, OR   \n",
       "2            Winston-Salem, NC   \n",
       "3            San Francisco, CA   \n",
       "4  New York, NY, United States   \n",
       "\n",
       "                                             AboutMe  Views  UpVotes  \\\n",
       "0  <p>Hi, I'm not really a person.</p>\\n\\n<p>I'm ...    301     6309   \n",
       "1  <p>Dev #2 who helped create Stack Overflow cur...     41        1   \n",
       "2  <p>I am the Architecture Lead for Stack Overfl...     22        1   \n",
       "3  <p>co-founder of <a href=\"https://airtable.com...     15        1   \n",
       "4  <p><a href=\"http://blog.stackoverflow.com/2010...     14        3   \n",
       "\n",
       "   DownVotes  AccountId  \n",
       "0      24166       -1.0  \n",
       "1          0        2.0  \n",
       "2          0     7598.0  \n",
       "3          0     1998.0  \n",
       "4          0    29738.0  "
      ]
     },
     "execution_count": 77,
     "metadata": {},
     "output_type": "execute_result"
    }
   ],
   "source": [
    "Users.head()"
   ]
  },
  {
   "cell_type": "markdown",
   "metadata": {},
   "source": [
    "Now, we can create a function that will select only the needed data. First, we select the required columns from `Posts` and `Users` data frames and merge them to a new data frame, dropping NaN's during the process. Next, we add a count column, counting unique `Location` occurrences. Then, once again, we select the required columns, drop duplicates and group by `Location`. The three last steps are to sort the values descendingly, select the top 10 records and reset their indices."
   ]
  },
  {
   "cell_type": "code",
   "execution_count": 131,
   "metadata": {
    "pycharm": {
     "name": "#%%\n"
    }
   },
   "outputs": [
    {
     "name": "stdout",
     "output_type": "stream",
     "text": [
      "                        Location  Count\n",
      "0      Christchurch, New Zealand   2765\n",
      "1                   New York, NY   1788\n",
      "2         London, United Kingdom   1708\n",
      "3                             UK   1590\n",
      "4  Sunshine Coast QLD, Australia   1550\n",
      "5                      Australia   1183\n",
      "6              Vancouver, Canada    967\n",
      "7                    Netherlands    935\n",
      "8             on the server farm    924\n",
      "9                   Pennsylvania    921\n"
     ]
    }
   ],
   "source": [
    "posts_data = Posts[[\"OwnerUserId\"]]\n",
    "users_data = Users[[\"Id\", \"Location\"]]\n",
    "df = pd.merge(posts_data, users_data, left_on=\"OwnerUserId\", right_on=\"Id\").dropna()\n",
    "df[\"Count\"] = df[\"Location\"].map(df[\"Location\"].value_counts())\n",
    "df = df[[\"Location\", \"Count\"]]\n",
    "df = df.drop_duplicates()\n",
    "df = df.loc[df[\"Location\"] != \"NaN\"].groupby(by=[\"Location\"]).sum()\n",
    "df = df.sort_values(by=[\"Count\"], ascending=False).head(10)\n",
    "df = df.reset_index()\n",
    "print(df)"
   ]
  },
  {
   "cell_type": "code",
   "execution_count": 132,
   "metadata": {
    "pycharm": {
     "name": "#%%\n"
    }
   },
   "outputs": [
    {
     "name": "stdout",
     "output_type": "stream",
     "text": [
      "True\n"
     ]
    }
   ],
   "source": [
    "print(sql_query.equals(df))"
   ]
  },
  {
   "cell_type": "markdown",
   "metadata": {},
   "source": [
    "## Third task\n",
    "### 3.1 - SQL query"
   ]
  },
  {
   "cell_type": "code",
   "execution_count": 133,
   "metadata": {
    "pycharm": {
     "name": "#%%\n"
    }
   },
   "outputs": [
    {
     "name": "stdout",
     "output_type": "stream",
     "text": [
      "   AccountId      DisplayName           Location  AverageAnswersCount\n",
      "0      280.0            csmba  San Francisco, CA                 11.0\n",
      "1    40811.0           vocaro       San Jose, CA                 11.0\n",
      "2      204.0             Josh          Australia                 10.0\n",
      "3    44093.0    Emma Arbogast          Salem, OR                 10.0\n",
      "4    11758.0         rvarcher  Oklahoma City, OK                  9.0\n",
      "5    19588.0       JD Isaacks        Atlanta, GA                  8.0\n",
      "6    20473.0      Jeremy Boyd        Houston, TX                  8.0\n",
      "7    42364.0         Petrogad               None                  8.0\n",
      "8    54571.0        Christian               None                  8.0\n",
      "9    79346.0  Thomas Matthews         California                  8.0\n"
     ]
    }
   ],
   "source": [
    "sql_query = pd.read_sql_query(\"\"\"\n",
    "SELECT\n",
    "    Users.AccountId,\n",
    "    Users.DisplayName,\n",
    "    Users.Location,\n",
    "    AVG(PostAuth.AnswersCount) as AverageAnswersCount\n",
    "FROM (\n",
    "    SELECT\n",
    "        AnsCount.AnswersCount,\n",
    "        Posts.Id,\n",
    "        Posts.OwnerUserId\n",
    "    FROM (\n",
    "        SELECT Posts.ParentId, COUNT(*) AS AnswersCount\n",
    "        FROM Posts\n",
    "        WHERE Posts.PostTypeId = 2\n",
    "        GROUP BY Posts.ParentId\n",
    "        ) AS AnsCount\n",
    "    JOIN Posts ON Posts.Id = AnsCount.ParentId\n",
    ") AS PostAuth\n",
    "JOIN Users ON Users.AccountId=PostAuth.OwnerUserId\n",
    "GROUP BY OwnerUserId\n",
    "ORDER BY AverageAnswersCount DESC\n",
    "LIMIT 10\n",
    "\"\"\", conn)\n",
    "print(sql_query)"
   ]
  },
  {
   "cell_type": "markdown",
   "metadata": {},
   "source": [
    "### 3.2 - Pandas query\n",
    "First, let's see how the data frames look."
   ]
  },
  {
   "cell_type": "code",
   "execution_count": 134,
   "metadata": {
    "pycharm": {
     "name": "#%%\n"
    }
   },
   "outputs": [
    {
     "data": {
      "text/html": [
       "<div>\n",
       "<style scoped>\n",
       "    .dataframe tbody tr th:only-of-type {\n",
       "        vertical-align: middle;\n",
       "    }\n",
       "\n",
       "    .dataframe tbody tr th {\n",
       "        vertical-align: top;\n",
       "    }\n",
       "\n",
       "    .dataframe thead th {\n",
       "        text-align: right;\n",
       "    }\n",
       "</style>\n",
       "<table border=\"1\" class=\"dataframe\">\n",
       "  <thead>\n",
       "    <tr style=\"text-align: right;\">\n",
       "      <th></th>\n",
       "      <th>Id</th>\n",
       "      <th>PostTypeId</th>\n",
       "      <th>AcceptedAnswerId</th>\n",
       "      <th>CreationDate</th>\n",
       "      <th>Score</th>\n",
       "      <th>ViewCount</th>\n",
       "      <th>Body</th>\n",
       "      <th>OwnerUserId</th>\n",
       "      <th>LastEditorUserId</th>\n",
       "      <th>LastEditDate</th>\n",
       "      <th>...</th>\n",
       "      <th>Tags</th>\n",
       "      <th>AnswerCount</th>\n",
       "      <th>CommentCount</th>\n",
       "      <th>ClosedDate</th>\n",
       "      <th>ContentLicense</th>\n",
       "      <th>FavoriteCount</th>\n",
       "      <th>ParentId</th>\n",
       "      <th>LastEditorDisplayName</th>\n",
       "      <th>CommunityOwnedDate</th>\n",
       "      <th>OwnerDisplayName</th>\n",
       "    </tr>\n",
       "  </thead>\n",
       "  <tbody>\n",
       "    <tr>\n",
       "      <th>0</th>\n",
       "      <td>1</td>\n",
       "      <td>1</td>\n",
       "      <td>393.0</td>\n",
       "      <td>2011-06-21T20:19:34.730</td>\n",
       "      <td>8</td>\n",
       "      <td>578.0</td>\n",
       "      <td>&lt;p&gt;My fiancée and I are looking for a good Car...</td>\n",
       "      <td>9.0</td>\n",
       "      <td>101.0</td>\n",
       "      <td>2011-12-28T21:36:43.910</td>\n",
       "      <td>...</td>\n",
       "      <td>&lt;caribbean&gt;&lt;cruising&gt;&lt;vacations&gt;</td>\n",
       "      <td>4.0</td>\n",
       "      <td>4</td>\n",
       "      <td>2013-02-25T23:52:47.953</td>\n",
       "      <td>CC BY-SA 3.0</td>\n",
       "      <td>NaN</td>\n",
       "      <td>NaN</td>\n",
       "      <td>NaN</td>\n",
       "      <td>NaN</td>\n",
       "      <td>NaN</td>\n",
       "    </tr>\n",
       "    <tr>\n",
       "      <th>1</th>\n",
       "      <td>2</td>\n",
       "      <td>1</td>\n",
       "      <td>NaN</td>\n",
       "      <td>2011-06-21T20:22:33.760</td>\n",
       "      <td>43</td>\n",
       "      <td>3255.0</td>\n",
       "      <td>&lt;p&gt;This was one of our definition questions, b...</td>\n",
       "      <td>13.0</td>\n",
       "      <td>19400.0</td>\n",
       "      <td>2021-04-27T00:47:20.470</td>\n",
       "      <td>...</td>\n",
       "      <td>&lt;guides&gt;&lt;extreme-tourism&gt;&lt;amazon-river&gt;&lt;amazon...</td>\n",
       "      <td>8.0</td>\n",
       "      <td>4</td>\n",
       "      <td>NaN</td>\n",
       "      <td>CC BY-SA 4.0</td>\n",
       "      <td>5.0</td>\n",
       "      <td>NaN</td>\n",
       "      <td>NaN</td>\n",
       "      <td>NaN</td>\n",
       "      <td>NaN</td>\n",
       "    </tr>\n",
       "    <tr>\n",
       "      <th>2</th>\n",
       "      <td>3</td>\n",
       "      <td>2</td>\n",
       "      <td>NaN</td>\n",
       "      <td>2011-06-21T20:24:28.080</td>\n",
       "      <td>15</td>\n",
       "      <td>NaN</td>\n",
       "      <td>&lt;p&gt;One way would be to go through an Adventure...</td>\n",
       "      <td>9.0</td>\n",
       "      <td>NaN</td>\n",
       "      <td>NaN</td>\n",
       "      <td>...</td>\n",
       "      <td>NaN</td>\n",
       "      <td>NaN</td>\n",
       "      <td>2</td>\n",
       "      <td>NaN</td>\n",
       "      <td>CC BY-SA 3.0</td>\n",
       "      <td>NaN</td>\n",
       "      <td>2.0</td>\n",
       "      <td>NaN</td>\n",
       "      <td>NaN</td>\n",
       "      <td>NaN</td>\n",
       "    </tr>\n",
       "    <tr>\n",
       "      <th>3</th>\n",
       "      <td>4</td>\n",
       "      <td>1</td>\n",
       "      <td>NaN</td>\n",
       "      <td>2011-06-21T20:24:57.160</td>\n",
       "      <td>8</td>\n",
       "      <td>291.0</td>\n",
       "      <td>&lt;p&gt;Singapore Airlines has an all-business clas...</td>\n",
       "      <td>24.0</td>\n",
       "      <td>693.0</td>\n",
       "      <td>2013-01-09T09:55:22.743</td>\n",
       "      <td>...</td>\n",
       "      <td>&lt;loyalty-programs&gt;&lt;routes&gt;&lt;ewr&gt;&lt;singapore-airl...</td>\n",
       "      <td>1.0</td>\n",
       "      <td>1</td>\n",
       "      <td>NaN</td>\n",
       "      <td>CC BY-SA 3.0</td>\n",
       "      <td>NaN</td>\n",
       "      <td>NaN</td>\n",
       "      <td>NaN</td>\n",
       "      <td>NaN</td>\n",
       "      <td>NaN</td>\n",
       "    </tr>\n",
       "    <tr>\n",
       "      <th>4</th>\n",
       "      <td>5</td>\n",
       "      <td>1</td>\n",
       "      <td>770.0</td>\n",
       "      <td>2011-06-21T20:25:56.787</td>\n",
       "      <td>14</td>\n",
       "      <td>476.0</td>\n",
       "      <td>&lt;p&gt;Another definition question that interested...</td>\n",
       "      <td>13.0</td>\n",
       "      <td>101.0</td>\n",
       "      <td>2011-12-28T21:36:18.230</td>\n",
       "      <td>...</td>\n",
       "      <td>&lt;romania&gt;&lt;transportation&gt;</td>\n",
       "      <td>5.0</td>\n",
       "      <td>0</td>\n",
       "      <td>NaN</td>\n",
       "      <td>CC BY-SA 3.0</td>\n",
       "      <td>2.0</td>\n",
       "      <td>NaN</td>\n",
       "      <td>NaN</td>\n",
       "      <td>NaN</td>\n",
       "      <td>NaN</td>\n",
       "    </tr>\n",
       "  </tbody>\n",
       "</table>\n",
       "<p>5 rows × 22 columns</p>\n",
       "</div>"
      ],
      "text/plain": [
       "   Id  PostTypeId  AcceptedAnswerId             CreationDate  Score  \\\n",
       "0   1           1             393.0  2011-06-21T20:19:34.730      8   \n",
       "1   2           1               NaN  2011-06-21T20:22:33.760     43   \n",
       "2   3           2               NaN  2011-06-21T20:24:28.080     15   \n",
       "3   4           1               NaN  2011-06-21T20:24:57.160      8   \n",
       "4   5           1             770.0  2011-06-21T20:25:56.787     14   \n",
       "\n",
       "   ViewCount                                               Body  OwnerUserId  \\\n",
       "0      578.0  <p>My fiancée and I are looking for a good Car...          9.0   \n",
       "1     3255.0  <p>This was one of our definition questions, b...         13.0   \n",
       "2        NaN  <p>One way would be to go through an Adventure...          9.0   \n",
       "3      291.0  <p>Singapore Airlines has an all-business clas...         24.0   \n",
       "4      476.0  <p>Another definition question that interested...         13.0   \n",
       "\n",
       "   LastEditorUserId             LastEditDate  ...  \\\n",
       "0             101.0  2011-12-28T21:36:43.910  ...   \n",
       "1           19400.0  2021-04-27T00:47:20.470  ...   \n",
       "2               NaN                      NaN  ...   \n",
       "3             693.0  2013-01-09T09:55:22.743  ...   \n",
       "4             101.0  2011-12-28T21:36:18.230  ...   \n",
       "\n",
       "                                                Tags AnswerCount CommentCount  \\\n",
       "0                   <caribbean><cruising><vacations>         4.0            4   \n",
       "1  <guides><extreme-tourism><amazon-river><amazon...         8.0            4   \n",
       "2                                                NaN         NaN            2   \n",
       "3  <loyalty-programs><routes><ewr><singapore-airl...         1.0            1   \n",
       "4                          <romania><transportation>         5.0            0   \n",
       "\n",
       "                ClosedDate  ContentLicense FavoriteCount ParentId  \\\n",
       "0  2013-02-25T23:52:47.953    CC BY-SA 3.0           NaN      NaN   \n",
       "1                      NaN    CC BY-SA 4.0           5.0      NaN   \n",
       "2                      NaN    CC BY-SA 3.0           NaN      2.0   \n",
       "3                      NaN    CC BY-SA 3.0           NaN      NaN   \n",
       "4                      NaN    CC BY-SA 3.0           2.0      NaN   \n",
       "\n",
       "   LastEditorDisplayName  CommunityOwnedDate OwnerDisplayName  \n",
       "0                    NaN                 NaN              NaN  \n",
       "1                    NaN                 NaN              NaN  \n",
       "2                    NaN                 NaN              NaN  \n",
       "3                    NaN                 NaN              NaN  \n",
       "4                    NaN                 NaN              NaN  \n",
       "\n",
       "[5 rows x 22 columns]"
      ]
     },
     "execution_count": 134,
     "metadata": {},
     "output_type": "execute_result"
    }
   ],
   "source": [
    "Posts.head()"
   ]
  },
  {
   "cell_type": "code",
   "execution_count": 135,
   "metadata": {
    "pycharm": {
     "name": "#%%\n"
    }
   },
   "outputs": [
    {
     "data": {
      "text/html": [
       "<div>\n",
       "<style scoped>\n",
       "    .dataframe tbody tr th:only-of-type {\n",
       "        vertical-align: middle;\n",
       "    }\n",
       "\n",
       "    .dataframe tbody tr th {\n",
       "        vertical-align: top;\n",
       "    }\n",
       "\n",
       "    .dataframe thead th {\n",
       "        text-align: right;\n",
       "    }\n",
       "</style>\n",
       "<table border=\"1\" class=\"dataframe\">\n",
       "  <thead>\n",
       "    <tr style=\"text-align: right;\">\n",
       "      <th></th>\n",
       "      <th>Id</th>\n",
       "      <th>Reputation</th>\n",
       "      <th>CreationDate</th>\n",
       "      <th>DisplayName</th>\n",
       "      <th>LastAccessDate</th>\n",
       "      <th>WebsiteUrl</th>\n",
       "      <th>Location</th>\n",
       "      <th>AboutMe</th>\n",
       "      <th>Views</th>\n",
       "      <th>UpVotes</th>\n",
       "      <th>DownVotes</th>\n",
       "      <th>AccountId</th>\n",
       "    </tr>\n",
       "  </thead>\n",
       "  <tbody>\n",
       "    <tr>\n",
       "      <th>0</th>\n",
       "      <td>-1</td>\n",
       "      <td>1</td>\n",
       "      <td>2011-06-21T15:16:44.253</td>\n",
       "      <td>Community</td>\n",
       "      <td>2011-06-21T15:16:44.253</td>\n",
       "      <td>http://meta.stackexchange.com/</td>\n",
       "      <td>on the server farm</td>\n",
       "      <td>&lt;p&gt;Hi, I'm not really a person.&lt;/p&gt;\\n\\n&lt;p&gt;I'm ...</td>\n",
       "      <td>301</td>\n",
       "      <td>6309</td>\n",
       "      <td>24166</td>\n",
       "      <td>-1.0</td>\n",
       "    </tr>\n",
       "    <tr>\n",
       "      <th>1</th>\n",
       "      <td>2</td>\n",
       "      <td>101</td>\n",
       "      <td>2011-06-21T20:10:03.720</td>\n",
       "      <td>Geoff Dalgas</td>\n",
       "      <td>2017-10-09T14:25:03.613</td>\n",
       "      <td>http://stackoverflow.com</td>\n",
       "      <td>Corvallis, OR</td>\n",
       "      <td>&lt;p&gt;Dev #2 who helped create Stack Overflow cur...</td>\n",
       "      <td>41</td>\n",
       "      <td>1</td>\n",
       "      <td>0</td>\n",
       "      <td>2.0</td>\n",
       "    </tr>\n",
       "    <tr>\n",
       "      <th>2</th>\n",
       "      <td>3</td>\n",
       "      <td>101</td>\n",
       "      <td>2011-06-21T20:11:02.490</td>\n",
       "      <td>Nick Craver</td>\n",
       "      <td>2019-11-13T23:54:04.630</td>\n",
       "      <td>https://nickcraver.com/blog/</td>\n",
       "      <td>Winston-Salem, NC</td>\n",
       "      <td>&lt;p&gt;I am the Architecture Lead for Stack Overfl...</td>\n",
       "      <td>22</td>\n",
       "      <td>1</td>\n",
       "      <td>0</td>\n",
       "      <td>7598.0</td>\n",
       "    </tr>\n",
       "    <tr>\n",
       "      <th>3</th>\n",
       "      <td>4</td>\n",
       "      <td>101</td>\n",
       "      <td>2011-06-21T20:12:21.223</td>\n",
       "      <td>Emmett</td>\n",
       "      <td>2019-09-05T02:57:12.997</td>\n",
       "      <td>http://minesweeperonline.com</td>\n",
       "      <td>San Francisco, CA</td>\n",
       "      <td>&lt;p&gt;co-founder of &lt;a href=\"https://airtable.com...</td>\n",
       "      <td>15</td>\n",
       "      <td>1</td>\n",
       "      <td>0</td>\n",
       "      <td>1998.0</td>\n",
       "    </tr>\n",
       "    <tr>\n",
       "      <th>4</th>\n",
       "      <td>5</td>\n",
       "      <td>101</td>\n",
       "      <td>2011-06-21T20:15:31.410</td>\n",
       "      <td>Kevin Montrose</td>\n",
       "      <td>2019-05-21T18:43:29.443</td>\n",
       "      <td>https://kevinmontrose.com</td>\n",
       "      <td>New York, NY, United States</td>\n",
       "      <td>&lt;p&gt;&lt;a href=\"http://blog.stackoverflow.com/2010...</td>\n",
       "      <td>14</td>\n",
       "      <td>3</td>\n",
       "      <td>0</td>\n",
       "      <td>29738.0</td>\n",
       "    </tr>\n",
       "  </tbody>\n",
       "</table>\n",
       "</div>"
      ],
      "text/plain": [
       "   Id  Reputation             CreationDate     DisplayName  \\\n",
       "0  -1           1  2011-06-21T15:16:44.253       Community   \n",
       "1   2         101  2011-06-21T20:10:03.720    Geoff Dalgas   \n",
       "2   3         101  2011-06-21T20:11:02.490     Nick Craver   \n",
       "3   4         101  2011-06-21T20:12:21.223          Emmett   \n",
       "4   5         101  2011-06-21T20:15:31.410  Kevin Montrose   \n",
       "\n",
       "            LastAccessDate                      WebsiteUrl  \\\n",
       "0  2011-06-21T15:16:44.253  http://meta.stackexchange.com/   \n",
       "1  2017-10-09T14:25:03.613        http://stackoverflow.com   \n",
       "2  2019-11-13T23:54:04.630    https://nickcraver.com/blog/   \n",
       "3  2019-09-05T02:57:12.997    http://minesweeperonline.com   \n",
       "4  2019-05-21T18:43:29.443       https://kevinmontrose.com   \n",
       "\n",
       "                      Location  \\\n",
       "0           on the server farm   \n",
       "1                Corvallis, OR   \n",
       "2            Winston-Salem, NC   \n",
       "3            San Francisco, CA   \n",
       "4  New York, NY, United States   \n",
       "\n",
       "                                             AboutMe  Views  UpVotes  \\\n",
       "0  <p>Hi, I'm not really a person.</p>\\n\\n<p>I'm ...    301     6309   \n",
       "1  <p>Dev #2 who helped create Stack Overflow cur...     41        1   \n",
       "2  <p>I am the Architecture Lead for Stack Overfl...     22        1   \n",
       "3  <p>co-founder of <a href=\"https://airtable.com...     15        1   \n",
       "4  <p><a href=\"http://blog.stackoverflow.com/2010...     14        3   \n",
       "\n",
       "   DownVotes  AccountId  \n",
       "0      24166       -1.0  \n",
       "1          0        2.0  \n",
       "2          0     7598.0  \n",
       "3          0     1998.0  \n",
       "4          0    29738.0  "
      ]
     },
     "execution_count": 135,
     "metadata": {},
     "output_type": "execute_result"
    }
   ],
   "source": [
    "Users.head()"
   ]
  },
  {
   "cell_type": "markdown",
   "metadata": {},
   "source": [
    "Now, we can create a function that will select only the needed data. First, we selected only values for column `ParentId` where `PostTypeId == 2` and dropped NaNs. Then, we added an `AnswerCount` column and selected required columns from `Posts`. The next step was to merge both data tables. After that, we again selected the required columns and dropped duplicates. After these operations, the frame was ready to calculate the mean; that's why we added the column `AverageAnswersCount` that holds this data. Next, we selected only the needed columns and merged the data for the second time. We repeated selecting required columns and dropping duplicates and then sorted the data descendingly, selecting the top 10 values and resetting their indices. After these operations, we obtained equal data frames with row permutations."
   ]
  },
  {
   "cell_type": "code",
   "execution_count": 355,
   "metadata": {
    "pycharm": {
     "name": "#%%\n"
    }
   },
   "outputs": [
    {
     "name": "stdout",
     "output_type": "stream",
     "text": [
      "   AccountId      DisplayName           Location  AverageAnswersCount\n",
      "0    40811.0           vocaro       San Jose, CA                 11.0\n",
      "1      280.0            csmba  San Francisco, CA                 11.0\n",
      "2      204.0             Josh          Australia                 10.0\n",
      "3    44093.0    Emma Arbogast          Salem, OR                 10.0\n",
      "4    11758.0         rvarcher  Oklahoma City, OK                  9.0\n",
      "5    42364.0         Petrogad                NaN                  8.0\n",
      "6    19588.0       JD Isaacks        Atlanta, GA                  8.0\n",
      "7    54571.0        Christian                NaN                  8.0\n",
      "8    20473.0      Jeremy Boyd        Houston, TX                  8.0\n",
      "9    79346.0  Thomas Matthews         California                  8.0\n"
     ]
    }
   ],
   "source": [
    "ans_count = Posts.loc[Posts[\"PostTypeId\"] == 2][[\"ParentId\"]].dropna()\n",
    "ans_count[\"AnswersCount\"] = ans_count[\"ParentId\"].map(ans_count[\"ParentId\"].value_counts())\n",
    "post_auth = Posts[[\"Id\", \"OwnerUserId\"]]\n",
    "post_auth = pd.merge(post_auth, ans_count, left_on=\"Id\", right_on=\"ParentId\")\n",
    "post_auth = post_auth[[\"AnswersCount\", \"Id\", \"OwnerUserId\"]].drop_duplicates()\n",
    "post_auth[\"AverageAnswersCount\"] = post_auth.groupby(\"OwnerUserId\")[\"AnswersCount\"]\n",
    "df = Users[[\"AccountId\", \"DisplayName\", \"Location\"]]\n",
    "df = pd.merge(df, post_auth, left_on=\"AccountId\", right_on=\"OwnerUserId\")\n",
    "df = df[[\"AccountId\", \"DisplayName\", \"Location\", \"AverageAnswersCount\"]].drop_duplicates()\n",
    "df = df.sort_values(by=[\"AverageAnswersCount\"], ascending=False).head(10).reset_index(drop=True)\n",
    "print(df)"
   ]
  },
  {
   "cell_type": "markdown",
   "metadata": {
    "pycharm": {
     "name": "#%% md\n"
    }
   },
   "source": [
    "**Attention:** to show that the data is the same, but with row permutations, we will sort both frames and drop their indices."
   ]
  },
  {
   "cell_type": "code",
   "execution_count": 361,
   "metadata": {
    "pycharm": {
     "name": "#%%\n"
    }
   },
   "outputs": [
    {
     "name": "stdout",
     "output_type": "stream",
     "text": [
      "True\n"
     ]
    }
   ],
   "source": [
    "sql_sorted = sql_query.sort_values([\"AverageAnswersCount\", \"DisplayName\"], ascending=[False, False]).reset_index(drop=True)\n",
    "pd_sorted = df.sort_values([\"AverageAnswersCount\", \"DisplayName\"], ascending=[False, False]).reset_index(drop=True)\n",
    "print(sql_sorted.equals(pd_sorted))"
   ]
  },
  {
   "cell_type": "markdown",
   "metadata": {},
   "source": [
    "## Fourth task\n",
    "### 4.1 - SQL query"
   ]
  },
  {
   "cell_type": "code",
   "execution_count": 386,
   "metadata": {
    "pycharm": {
     "name": "#%%\n"
    }
   },
   "outputs": [
    {
     "name": "stdout",
     "output_type": "stream",
     "text": [
      "                                                Title  Year  Count\n",
      "0   OK we're all adults here, so really, how on ea...  2011     70\n",
      "1     How to successfully haggle / bargain in markets  2012     37\n",
      "2   Why are airline passengers asked to lift up wi...  2013    103\n",
      "3   How do you know if Americans genuinely/literal...  2014    179\n",
      "4   Immigration officer that stopped me at the air...  2015    117\n",
      "5   I don't know my nationality. How can I visit D...  2016    134\n",
      "6                        Why prohibit engine braking?  2017    177\n",
      "7   How can I find restaurants in the USA where ti...  2018    119\n",
      "8   My name causes an issue with any booking! (nam...  2019    263\n",
      "9   What's the longest distance that can be travel...  2020    110\n",
      "10  Positive drug test in Singapore: How long do I...  2021     61\n"
     ]
    }
   ],
   "source": [
    "sql_query = pd.read_sql_query(\"\"\"\n",
    "SELECT\n",
    "    Posts.Title,\n",
    "    UpVotesPerYear.Year,\n",
    "    MAX(UpVotesPerYear.Count) AS Count\n",
    "FROM (\n",
    "        SELECT\n",
    "            PostId,\n",
    "            COUNT(*) AS Count,\n",
    "            STRFTIME('%Y', Votes.CreationDate) AS Year\n",
    "        FROM Votes\n",
    "        WHERE VoteTypeId=2\n",
    "        GROUP BY PostId, Year\n",
    "    ) AS UpVotesPerYear\n",
    "JOIN Posts ON Posts.Id=UpVotesPerYear.PostId\n",
    "WHERE Posts.PostTypeId=1\n",
    "GROUP BY Year\n",
    "ORDER BY Year ASC\n",
    "\"\"\", conn)\n",
    "print(sql_query)"
   ]
  },
  {
   "cell_type": "markdown",
   "metadata": {},
   "source": [
    "### 4.2 - Pandas query\n",
    "First, let's see how the data frames look."
   ]
  },
  {
   "cell_type": "code",
   "execution_count": 458,
   "metadata": {
    "pycharm": {
     "name": "#%%\n"
    }
   },
   "outputs": [
    {
     "data": {
      "text/html": [
       "<div>\n",
       "<style scoped>\n",
       "    .dataframe tbody tr th:only-of-type {\n",
       "        vertical-align: middle;\n",
       "    }\n",
       "\n",
       "    .dataframe tbody tr th {\n",
       "        vertical-align: top;\n",
       "    }\n",
       "\n",
       "    .dataframe thead th {\n",
       "        text-align: right;\n",
       "    }\n",
       "</style>\n",
       "<table border=\"1\" class=\"dataframe\">\n",
       "  <thead>\n",
       "    <tr style=\"text-align: right;\">\n",
       "      <th></th>\n",
       "      <th>Id</th>\n",
       "      <th>PostId</th>\n",
       "      <th>VoteTypeId</th>\n",
       "      <th>CreationDate</th>\n",
       "      <th>UserId</th>\n",
       "      <th>BountyAmount</th>\n",
       "    </tr>\n",
       "  </thead>\n",
       "  <tbody>\n",
       "    <tr>\n",
       "      <th>0</th>\n",
       "      <td>1</td>\n",
       "      <td>1</td>\n",
       "      <td>2</td>\n",
       "      <td>2011-06-21T00:00:00.000</td>\n",
       "      <td>NaN</td>\n",
       "      <td>NaN</td>\n",
       "    </tr>\n",
       "    <tr>\n",
       "      <th>1</th>\n",
       "      <td>2</td>\n",
       "      <td>1</td>\n",
       "      <td>2</td>\n",
       "      <td>2011-06-21T00:00:00.000</td>\n",
       "      <td>NaN</td>\n",
       "      <td>NaN</td>\n",
       "    </tr>\n",
       "    <tr>\n",
       "      <th>2</th>\n",
       "      <td>3</td>\n",
       "      <td>2</td>\n",
       "      <td>2</td>\n",
       "      <td>2011-06-21T00:00:00.000</td>\n",
       "      <td>NaN</td>\n",
       "      <td>NaN</td>\n",
       "    </tr>\n",
       "    <tr>\n",
       "      <th>3</th>\n",
       "      <td>4</td>\n",
       "      <td>3</td>\n",
       "      <td>2</td>\n",
       "      <td>2011-06-21T00:00:00.000</td>\n",
       "      <td>NaN</td>\n",
       "      <td>NaN</td>\n",
       "    </tr>\n",
       "    <tr>\n",
       "      <th>4</th>\n",
       "      <td>5</td>\n",
       "      <td>5</td>\n",
       "      <td>5</td>\n",
       "      <td>2011-06-21T00:00:00.000</td>\n",
       "      <td>13.0</td>\n",
       "      <td>NaN</td>\n",
       "    </tr>\n",
       "  </tbody>\n",
       "</table>\n",
       "</div>"
      ],
      "text/plain": [
       "   Id  PostId  VoteTypeId             CreationDate  UserId  BountyAmount\n",
       "0   1       1           2  2011-06-21T00:00:00.000     NaN           NaN\n",
       "1   2       1           2  2011-06-21T00:00:00.000     NaN           NaN\n",
       "2   3       2           2  2011-06-21T00:00:00.000     NaN           NaN\n",
       "3   4       3           2  2011-06-21T00:00:00.000     NaN           NaN\n",
       "4   5       5           5  2011-06-21T00:00:00.000    13.0           NaN"
      ]
     },
     "execution_count": 458,
     "metadata": {},
     "output_type": "execute_result"
    }
   ],
   "source": [
    "Votes.head()"
   ]
  },
  {
   "cell_type": "code",
   "execution_count": 459,
   "metadata": {
    "pycharm": {
     "name": "#%%\n"
    }
   },
   "outputs": [
    {
     "data": {
      "text/html": [
       "<div>\n",
       "<style scoped>\n",
       "    .dataframe tbody tr th:only-of-type {\n",
       "        vertical-align: middle;\n",
       "    }\n",
       "\n",
       "    .dataframe tbody tr th {\n",
       "        vertical-align: top;\n",
       "    }\n",
       "\n",
       "    .dataframe thead th {\n",
       "        text-align: right;\n",
       "    }\n",
       "</style>\n",
       "<table border=\"1\" class=\"dataframe\">\n",
       "  <thead>\n",
       "    <tr style=\"text-align: right;\">\n",
       "      <th></th>\n",
       "      <th>Id</th>\n",
       "      <th>PostTypeId</th>\n",
       "      <th>AcceptedAnswerId</th>\n",
       "      <th>CreationDate</th>\n",
       "      <th>Score</th>\n",
       "      <th>ViewCount</th>\n",
       "      <th>Body</th>\n",
       "      <th>OwnerUserId</th>\n",
       "      <th>LastEditorUserId</th>\n",
       "      <th>LastEditDate</th>\n",
       "      <th>...</th>\n",
       "      <th>Tags</th>\n",
       "      <th>AnswerCount</th>\n",
       "      <th>CommentCount</th>\n",
       "      <th>ClosedDate</th>\n",
       "      <th>ContentLicense</th>\n",
       "      <th>FavoriteCount</th>\n",
       "      <th>ParentId</th>\n",
       "      <th>LastEditorDisplayName</th>\n",
       "      <th>CommunityOwnedDate</th>\n",
       "      <th>OwnerDisplayName</th>\n",
       "    </tr>\n",
       "  </thead>\n",
       "  <tbody>\n",
       "    <tr>\n",
       "      <th>0</th>\n",
       "      <td>1</td>\n",
       "      <td>1</td>\n",
       "      <td>393.0</td>\n",
       "      <td>2011-06-21T20:19:34.730</td>\n",
       "      <td>8</td>\n",
       "      <td>578.0</td>\n",
       "      <td>&lt;p&gt;My fiancée and I are looking for a good Car...</td>\n",
       "      <td>9.0</td>\n",
       "      <td>101.0</td>\n",
       "      <td>2011-12-28T21:36:43.910</td>\n",
       "      <td>...</td>\n",
       "      <td>&lt;caribbean&gt;&lt;cruising&gt;&lt;vacations&gt;</td>\n",
       "      <td>4.0</td>\n",
       "      <td>4</td>\n",
       "      <td>2013-02-25T23:52:47.953</td>\n",
       "      <td>CC BY-SA 3.0</td>\n",
       "      <td>NaN</td>\n",
       "      <td>NaN</td>\n",
       "      <td>NaN</td>\n",
       "      <td>NaN</td>\n",
       "      <td>NaN</td>\n",
       "    </tr>\n",
       "    <tr>\n",
       "      <th>1</th>\n",
       "      <td>2</td>\n",
       "      <td>1</td>\n",
       "      <td>NaN</td>\n",
       "      <td>2011-06-21T20:22:33.760</td>\n",
       "      <td>43</td>\n",
       "      <td>3255.0</td>\n",
       "      <td>&lt;p&gt;This was one of our definition questions, b...</td>\n",
       "      <td>13.0</td>\n",
       "      <td>19400.0</td>\n",
       "      <td>2021-04-27T00:47:20.470</td>\n",
       "      <td>...</td>\n",
       "      <td>&lt;guides&gt;&lt;extreme-tourism&gt;&lt;amazon-river&gt;&lt;amazon...</td>\n",
       "      <td>8.0</td>\n",
       "      <td>4</td>\n",
       "      <td>NaN</td>\n",
       "      <td>CC BY-SA 4.0</td>\n",
       "      <td>5.0</td>\n",
       "      <td>NaN</td>\n",
       "      <td>NaN</td>\n",
       "      <td>NaN</td>\n",
       "      <td>NaN</td>\n",
       "    </tr>\n",
       "    <tr>\n",
       "      <th>2</th>\n",
       "      <td>3</td>\n",
       "      <td>2</td>\n",
       "      <td>NaN</td>\n",
       "      <td>2011-06-21T20:24:28.080</td>\n",
       "      <td>15</td>\n",
       "      <td>NaN</td>\n",
       "      <td>&lt;p&gt;One way would be to go through an Adventure...</td>\n",
       "      <td>9.0</td>\n",
       "      <td>NaN</td>\n",
       "      <td>NaN</td>\n",
       "      <td>...</td>\n",
       "      <td>NaN</td>\n",
       "      <td>NaN</td>\n",
       "      <td>2</td>\n",
       "      <td>NaN</td>\n",
       "      <td>CC BY-SA 3.0</td>\n",
       "      <td>NaN</td>\n",
       "      <td>2.0</td>\n",
       "      <td>NaN</td>\n",
       "      <td>NaN</td>\n",
       "      <td>NaN</td>\n",
       "    </tr>\n",
       "    <tr>\n",
       "      <th>3</th>\n",
       "      <td>4</td>\n",
       "      <td>1</td>\n",
       "      <td>NaN</td>\n",
       "      <td>2011-06-21T20:24:57.160</td>\n",
       "      <td>8</td>\n",
       "      <td>291.0</td>\n",
       "      <td>&lt;p&gt;Singapore Airlines has an all-business clas...</td>\n",
       "      <td>24.0</td>\n",
       "      <td>693.0</td>\n",
       "      <td>2013-01-09T09:55:22.743</td>\n",
       "      <td>...</td>\n",
       "      <td>&lt;loyalty-programs&gt;&lt;routes&gt;&lt;ewr&gt;&lt;singapore-airl...</td>\n",
       "      <td>1.0</td>\n",
       "      <td>1</td>\n",
       "      <td>NaN</td>\n",
       "      <td>CC BY-SA 3.0</td>\n",
       "      <td>NaN</td>\n",
       "      <td>NaN</td>\n",
       "      <td>NaN</td>\n",
       "      <td>NaN</td>\n",
       "      <td>NaN</td>\n",
       "    </tr>\n",
       "    <tr>\n",
       "      <th>4</th>\n",
       "      <td>5</td>\n",
       "      <td>1</td>\n",
       "      <td>770.0</td>\n",
       "      <td>2011-06-21T20:25:56.787</td>\n",
       "      <td>14</td>\n",
       "      <td>476.0</td>\n",
       "      <td>&lt;p&gt;Another definition question that interested...</td>\n",
       "      <td>13.0</td>\n",
       "      <td>101.0</td>\n",
       "      <td>2011-12-28T21:36:18.230</td>\n",
       "      <td>...</td>\n",
       "      <td>&lt;romania&gt;&lt;transportation&gt;</td>\n",
       "      <td>5.0</td>\n",
       "      <td>0</td>\n",
       "      <td>NaN</td>\n",
       "      <td>CC BY-SA 3.0</td>\n",
       "      <td>2.0</td>\n",
       "      <td>NaN</td>\n",
       "      <td>NaN</td>\n",
       "      <td>NaN</td>\n",
       "      <td>NaN</td>\n",
       "    </tr>\n",
       "  </tbody>\n",
       "</table>\n",
       "<p>5 rows × 22 columns</p>\n",
       "</div>"
      ],
      "text/plain": [
       "   Id  PostTypeId  AcceptedAnswerId             CreationDate  Score  \\\n",
       "0   1           1             393.0  2011-06-21T20:19:34.730      8   \n",
       "1   2           1               NaN  2011-06-21T20:22:33.760     43   \n",
       "2   3           2               NaN  2011-06-21T20:24:28.080     15   \n",
       "3   4           1               NaN  2011-06-21T20:24:57.160      8   \n",
       "4   5           1             770.0  2011-06-21T20:25:56.787     14   \n",
       "\n",
       "   ViewCount                                               Body  OwnerUserId  \\\n",
       "0      578.0  <p>My fiancée and I are looking for a good Car...          9.0   \n",
       "1     3255.0  <p>This was one of our definition questions, b...         13.0   \n",
       "2        NaN  <p>One way would be to go through an Adventure...          9.0   \n",
       "3      291.0  <p>Singapore Airlines has an all-business clas...         24.0   \n",
       "4      476.0  <p>Another definition question that interested...         13.0   \n",
       "\n",
       "   LastEditorUserId             LastEditDate  ...  \\\n",
       "0             101.0  2011-12-28T21:36:43.910  ...   \n",
       "1           19400.0  2021-04-27T00:47:20.470  ...   \n",
       "2               NaN                      NaN  ...   \n",
       "3             693.0  2013-01-09T09:55:22.743  ...   \n",
       "4             101.0  2011-12-28T21:36:18.230  ...   \n",
       "\n",
       "                                                Tags AnswerCount CommentCount  \\\n",
       "0                   <caribbean><cruising><vacations>         4.0            4   \n",
       "1  <guides><extreme-tourism><amazon-river><amazon...         8.0            4   \n",
       "2                                                NaN         NaN            2   \n",
       "3  <loyalty-programs><routes><ewr><singapore-airl...         1.0            1   \n",
       "4                          <romania><transportation>         5.0            0   \n",
       "\n",
       "                ClosedDate  ContentLicense FavoriteCount ParentId  \\\n",
       "0  2013-02-25T23:52:47.953    CC BY-SA 3.0           NaN      NaN   \n",
       "1                      NaN    CC BY-SA 4.0           5.0      NaN   \n",
       "2                      NaN    CC BY-SA 3.0           NaN      2.0   \n",
       "3                      NaN    CC BY-SA 3.0           NaN      NaN   \n",
       "4                      NaN    CC BY-SA 3.0           2.0      NaN   \n",
       "\n",
       "   LastEditorDisplayName  CommunityOwnedDate OwnerDisplayName  \n",
       "0                    NaN                 NaN              NaN  \n",
       "1                    NaN                 NaN              NaN  \n",
       "2                    NaN                 NaN              NaN  \n",
       "3                    NaN                 NaN              NaN  \n",
       "4                    NaN                 NaN              NaN  \n",
       "\n",
       "[5 rows x 22 columns]"
      ]
     },
     "execution_count": 459,
     "metadata": {},
     "output_type": "execute_result"
    }
   ],
   "source": [
    "Posts.head()"
   ]
  },
  {
   "cell_type": "markdown",
   "metadata": {},
   "source": [
    "Now, we can create a function that will select only the needed data. First, we filter out the data and choose only required columns, dropping NaNs in the process. Then, we add a new column, `Year`, storing dates transformed using the `strftime` function. Next, we group and obtain a `Count` column. To continue, we need to select required columns from the `Posts` frame and filter out records not fulfilling the provided condition. Then, we merge two data frames, select needed columns, and drop NaNs and duplicates. In the end, we sort values two times: first with `groupby` and `head(1)`, which is a simple way of selecting the maximum value for each year and removing other values, and secondly to change the order of the data and reset indices."
   ]
  },
  {
   "cell_type": "code",
   "execution_count": 488,
   "metadata": {
    "pycharm": {
     "name": "#%%\n"
    }
   },
   "outputs": [
    {
     "name": "stdout",
     "output_type": "stream",
     "text": [
      "                                                Title  Year  Count\n",
      "0   OK we're all adults here, so really, how on ea...  2011     70\n",
      "1     How to successfully haggle / bargain in markets  2012     37\n",
      "2   Why are airline passengers asked to lift up wi...  2013    103\n",
      "3   How do you know if Americans genuinely/literal...  2014    179\n",
      "4   Immigration officer that stopped me at the air...  2015    117\n",
      "5   I don't know my nationality. How can I visit D...  2016    134\n",
      "6                        Why prohibit engine braking?  2017    177\n",
      "7   How can I find restaurants in the USA where ti...  2018    119\n",
      "8   My name causes an issue with any booking! (nam...  2019    263\n",
      "9   What's the longest distance that can be travel...  2020    110\n",
      "10  Positive drug test in Singapore: How long do I...  2021     61\n"
     ]
    }
   ],
   "source": [
    "up_votes_per_year = Votes.loc[Votes[\"VoteTypeId\"] == 2][[\"PostId\", \"CreationDate\"]].dropna()\n",
    "up_votes_per_year[\"Year\"] = pd.to_datetime(up_votes_per_year[\"CreationDate\"]).dt.strftime(\"%Y\")\n",
    "up_votes_per_year[\"Count\"] = up_votes_per_year.groupby([\"PostId\", \"Year\"]).transform(\"count\")\n",
    "df = Posts[[\"Title\", \"Id\", \"PostTypeId\"]]\n",
    "df = df.loc[df[\"PostTypeId\"] == 1]\n",
    "df = pd.merge(df, up_votes_per_year, left_on=\"Id\", right_on=\"PostId\")\n",
    "df = df[[\"Title\", \"Year\", \"Count\"]].dropna().drop_duplicates()\n",
    "df = df.sort_values(by=\"Count\", ascending=False).groupby(\"Year\").head(1)\n",
    "df = df.sort_values(by=[\"Year\"], ascending=True).reset_index(drop=True)\n",
    "print(df)"
   ]
  },
  {
   "cell_type": "code",
   "execution_count": 457,
   "metadata": {
    "pycharm": {
     "name": "#%%\n"
    }
   },
   "outputs": [
    {
     "name": "stdout",
     "output_type": "stream",
     "text": [
      "True\n"
     ]
    }
   ],
   "source": [
    "print(sql_query.equals(df))"
   ]
  },
  {
   "cell_type": "markdown",
   "metadata": {},
   "source": [
    "## Fifth task\n",
    "### 5.1 - SQL query"
   ]
  },
  {
   "cell_type": "code",
   "execution_count": 460,
   "metadata": {
    "pycharm": {
     "name": "#%%\n"
    }
   },
   "outputs": [
    {
     "name": "stdout",
     "output_type": "stream",
     "text": [
      "                                               Title  OldVotes\n",
      "0                       How to avoid drinking vodka?       200\n",
      "1         How can I do a \"broad\" search for flights?       175\n",
      "2  How to convince airport security that I am not...       119\n",
      "3        Can I accidentally miss the in-flight food?       114\n",
      "4  How can black travellers deal with unwanted ha...       108\n",
      "5             Why are there no seat belts on trains?       106\n",
      "6  How do you avoid \"tourist traps\" when travelin...       104\n",
      "7                         Can I fly with a gold bar?       102\n",
      "8  Best way to dispose of a carry-on bag in Hong ...        99\n",
      "9    How to successfully haggle / bargain in markets        97\n"
     ]
    }
   ],
   "source": [
    "sql_query = pd.read_sql_query(\"\"\"\n",
    "SELECT\n",
    "    Posts.Title,\n",
    "    VotesByAge2.OldVotes\n",
    "FROM Posts\n",
    "JOIN (\n",
    "    SELECT\n",
    "        PostId,\n",
    "        MAX(CASE WHEN VoteDate = 'new' THEN Total ELSE 0 END) NewVotes,\n",
    "        MAX(CASE WHEN VoteDate = 'old' THEN Total ELSE 0 END) OldVotes,\n",
    "        SUM(Total) AS Votes\n",
    "    FROM (\n",
    "        SELECT\n",
    "            PostId,\n",
    "            CASE STRFTIME('%Y', CreationDate)\n",
    "                WHEN '2021' THEN 'new'\n",
    "                WHEN '2020' THEN 'new'\n",
    "                ELSE 'old'\n",
    "                END VoteDate,\n",
    "            COUNT(*) AS Total\n",
    "        FROM Votes\n",
    "        WHERE VoteTypeId IN (1, 2, 5)\n",
    "        GROUP BY PostId, VoteDate\n",
    "    ) AS VotesByAge\n",
    "    GROUP BY VotesByAge.PostId\n",
    "    HAVING NewVotes=0\n",
    ") AS VotesByAge2 ON VotesByAge2.PostId=Posts.ID\n",
    "WHERE Posts.PostTypeId=1\n",
    "ORDER BY VotesByAge2.OldVotes DESC\n",
    "LIMIT 10\n",
    "\"\"\", conn)\n",
    "print(sql_query)"
   ]
  },
  {
   "cell_type": "markdown",
   "metadata": {},
   "source": [
    "### 5.2 - Pandas query\n",
    "First, let's see how the data frames look."
   ]
  },
  {
   "cell_type": "code",
   "execution_count": 461,
   "metadata": {
    "pycharm": {
     "name": "#%%\n"
    }
   },
   "outputs": [
    {
     "data": {
      "text/html": [
       "<div>\n",
       "<style scoped>\n",
       "    .dataframe tbody tr th:only-of-type {\n",
       "        vertical-align: middle;\n",
       "    }\n",
       "\n",
       "    .dataframe tbody tr th {\n",
       "        vertical-align: top;\n",
       "    }\n",
       "\n",
       "    .dataframe thead th {\n",
       "        text-align: right;\n",
       "    }\n",
       "</style>\n",
       "<table border=\"1\" class=\"dataframe\">\n",
       "  <thead>\n",
       "    <tr style=\"text-align: right;\">\n",
       "      <th></th>\n",
       "      <th>Id</th>\n",
       "      <th>PostTypeId</th>\n",
       "      <th>AcceptedAnswerId</th>\n",
       "      <th>CreationDate</th>\n",
       "      <th>Score</th>\n",
       "      <th>ViewCount</th>\n",
       "      <th>Body</th>\n",
       "      <th>OwnerUserId</th>\n",
       "      <th>LastEditorUserId</th>\n",
       "      <th>LastEditDate</th>\n",
       "      <th>...</th>\n",
       "      <th>Tags</th>\n",
       "      <th>AnswerCount</th>\n",
       "      <th>CommentCount</th>\n",
       "      <th>ClosedDate</th>\n",
       "      <th>ContentLicense</th>\n",
       "      <th>FavoriteCount</th>\n",
       "      <th>ParentId</th>\n",
       "      <th>LastEditorDisplayName</th>\n",
       "      <th>CommunityOwnedDate</th>\n",
       "      <th>OwnerDisplayName</th>\n",
       "    </tr>\n",
       "  </thead>\n",
       "  <tbody>\n",
       "    <tr>\n",
       "      <th>0</th>\n",
       "      <td>1</td>\n",
       "      <td>1</td>\n",
       "      <td>393.0</td>\n",
       "      <td>2011-06-21T20:19:34.730</td>\n",
       "      <td>8</td>\n",
       "      <td>578.0</td>\n",
       "      <td>&lt;p&gt;My fiancée and I are looking for a good Car...</td>\n",
       "      <td>9.0</td>\n",
       "      <td>101.0</td>\n",
       "      <td>2011-12-28T21:36:43.910</td>\n",
       "      <td>...</td>\n",
       "      <td>&lt;caribbean&gt;&lt;cruising&gt;&lt;vacations&gt;</td>\n",
       "      <td>4.0</td>\n",
       "      <td>4</td>\n",
       "      <td>2013-02-25T23:52:47.953</td>\n",
       "      <td>CC BY-SA 3.0</td>\n",
       "      <td>NaN</td>\n",
       "      <td>NaN</td>\n",
       "      <td>NaN</td>\n",
       "      <td>NaN</td>\n",
       "      <td>NaN</td>\n",
       "    </tr>\n",
       "    <tr>\n",
       "      <th>1</th>\n",
       "      <td>2</td>\n",
       "      <td>1</td>\n",
       "      <td>NaN</td>\n",
       "      <td>2011-06-21T20:22:33.760</td>\n",
       "      <td>43</td>\n",
       "      <td>3255.0</td>\n",
       "      <td>&lt;p&gt;This was one of our definition questions, b...</td>\n",
       "      <td>13.0</td>\n",
       "      <td>19400.0</td>\n",
       "      <td>2021-04-27T00:47:20.470</td>\n",
       "      <td>...</td>\n",
       "      <td>&lt;guides&gt;&lt;extreme-tourism&gt;&lt;amazon-river&gt;&lt;amazon...</td>\n",
       "      <td>8.0</td>\n",
       "      <td>4</td>\n",
       "      <td>NaN</td>\n",
       "      <td>CC BY-SA 4.0</td>\n",
       "      <td>5.0</td>\n",
       "      <td>NaN</td>\n",
       "      <td>NaN</td>\n",
       "      <td>NaN</td>\n",
       "      <td>NaN</td>\n",
       "    </tr>\n",
       "    <tr>\n",
       "      <th>2</th>\n",
       "      <td>3</td>\n",
       "      <td>2</td>\n",
       "      <td>NaN</td>\n",
       "      <td>2011-06-21T20:24:28.080</td>\n",
       "      <td>15</td>\n",
       "      <td>NaN</td>\n",
       "      <td>&lt;p&gt;One way would be to go through an Adventure...</td>\n",
       "      <td>9.0</td>\n",
       "      <td>NaN</td>\n",
       "      <td>NaN</td>\n",
       "      <td>...</td>\n",
       "      <td>NaN</td>\n",
       "      <td>NaN</td>\n",
       "      <td>2</td>\n",
       "      <td>NaN</td>\n",
       "      <td>CC BY-SA 3.0</td>\n",
       "      <td>NaN</td>\n",
       "      <td>2.0</td>\n",
       "      <td>NaN</td>\n",
       "      <td>NaN</td>\n",
       "      <td>NaN</td>\n",
       "    </tr>\n",
       "    <tr>\n",
       "      <th>3</th>\n",
       "      <td>4</td>\n",
       "      <td>1</td>\n",
       "      <td>NaN</td>\n",
       "      <td>2011-06-21T20:24:57.160</td>\n",
       "      <td>8</td>\n",
       "      <td>291.0</td>\n",
       "      <td>&lt;p&gt;Singapore Airlines has an all-business clas...</td>\n",
       "      <td>24.0</td>\n",
       "      <td>693.0</td>\n",
       "      <td>2013-01-09T09:55:22.743</td>\n",
       "      <td>...</td>\n",
       "      <td>&lt;loyalty-programs&gt;&lt;routes&gt;&lt;ewr&gt;&lt;singapore-airl...</td>\n",
       "      <td>1.0</td>\n",
       "      <td>1</td>\n",
       "      <td>NaN</td>\n",
       "      <td>CC BY-SA 3.0</td>\n",
       "      <td>NaN</td>\n",
       "      <td>NaN</td>\n",
       "      <td>NaN</td>\n",
       "      <td>NaN</td>\n",
       "      <td>NaN</td>\n",
       "    </tr>\n",
       "    <tr>\n",
       "      <th>4</th>\n",
       "      <td>5</td>\n",
       "      <td>1</td>\n",
       "      <td>770.0</td>\n",
       "      <td>2011-06-21T20:25:56.787</td>\n",
       "      <td>14</td>\n",
       "      <td>476.0</td>\n",
       "      <td>&lt;p&gt;Another definition question that interested...</td>\n",
       "      <td>13.0</td>\n",
       "      <td>101.0</td>\n",
       "      <td>2011-12-28T21:36:18.230</td>\n",
       "      <td>...</td>\n",
       "      <td>&lt;romania&gt;&lt;transportation&gt;</td>\n",
       "      <td>5.0</td>\n",
       "      <td>0</td>\n",
       "      <td>NaN</td>\n",
       "      <td>CC BY-SA 3.0</td>\n",
       "      <td>2.0</td>\n",
       "      <td>NaN</td>\n",
       "      <td>NaN</td>\n",
       "      <td>NaN</td>\n",
       "      <td>NaN</td>\n",
       "    </tr>\n",
       "  </tbody>\n",
       "</table>\n",
       "<p>5 rows × 22 columns</p>\n",
       "</div>"
      ],
      "text/plain": [
       "   Id  PostTypeId  AcceptedAnswerId             CreationDate  Score  \\\n",
       "0   1           1             393.0  2011-06-21T20:19:34.730      8   \n",
       "1   2           1               NaN  2011-06-21T20:22:33.760     43   \n",
       "2   3           2               NaN  2011-06-21T20:24:28.080     15   \n",
       "3   4           1               NaN  2011-06-21T20:24:57.160      8   \n",
       "4   5           1             770.0  2011-06-21T20:25:56.787     14   \n",
       "\n",
       "   ViewCount                                               Body  OwnerUserId  \\\n",
       "0      578.0  <p>My fiancée and I are looking for a good Car...          9.0   \n",
       "1     3255.0  <p>This was one of our definition questions, b...         13.0   \n",
       "2        NaN  <p>One way would be to go through an Adventure...          9.0   \n",
       "3      291.0  <p>Singapore Airlines has an all-business clas...         24.0   \n",
       "4      476.0  <p>Another definition question that interested...         13.0   \n",
       "\n",
       "   LastEditorUserId             LastEditDate  ...  \\\n",
       "0             101.0  2011-12-28T21:36:43.910  ...   \n",
       "1           19400.0  2021-04-27T00:47:20.470  ...   \n",
       "2               NaN                      NaN  ...   \n",
       "3             693.0  2013-01-09T09:55:22.743  ...   \n",
       "4             101.0  2011-12-28T21:36:18.230  ...   \n",
       "\n",
       "                                                Tags AnswerCount CommentCount  \\\n",
       "0                   <caribbean><cruising><vacations>         4.0            4   \n",
       "1  <guides><extreme-tourism><amazon-river><amazon...         8.0            4   \n",
       "2                                                NaN         NaN            2   \n",
       "3  <loyalty-programs><routes><ewr><singapore-airl...         1.0            1   \n",
       "4                          <romania><transportation>         5.0            0   \n",
       "\n",
       "                ClosedDate  ContentLicense FavoriteCount ParentId  \\\n",
       "0  2013-02-25T23:52:47.953    CC BY-SA 3.0           NaN      NaN   \n",
       "1                      NaN    CC BY-SA 4.0           5.0      NaN   \n",
       "2                      NaN    CC BY-SA 3.0           NaN      2.0   \n",
       "3                      NaN    CC BY-SA 3.0           NaN      NaN   \n",
       "4                      NaN    CC BY-SA 3.0           2.0      NaN   \n",
       "\n",
       "   LastEditorDisplayName  CommunityOwnedDate OwnerDisplayName  \n",
       "0                    NaN                 NaN              NaN  \n",
       "1                    NaN                 NaN              NaN  \n",
       "2                    NaN                 NaN              NaN  \n",
       "3                    NaN                 NaN              NaN  \n",
       "4                    NaN                 NaN              NaN  \n",
       "\n",
       "[5 rows x 22 columns]"
      ]
     },
     "execution_count": 461,
     "metadata": {},
     "output_type": "execute_result"
    }
   ],
   "source": [
    "Posts.head()"
   ]
  },
  {
   "cell_type": "code",
   "execution_count": 462,
   "metadata": {
    "pycharm": {
     "name": "#%%\n"
    }
   },
   "outputs": [
    {
     "data": {
      "text/html": [
       "<div>\n",
       "<style scoped>\n",
       "    .dataframe tbody tr th:only-of-type {\n",
       "        vertical-align: middle;\n",
       "    }\n",
       "\n",
       "    .dataframe tbody tr th {\n",
       "        vertical-align: top;\n",
       "    }\n",
       "\n",
       "    .dataframe thead th {\n",
       "        text-align: right;\n",
       "    }\n",
       "</style>\n",
       "<table border=\"1\" class=\"dataframe\">\n",
       "  <thead>\n",
       "    <tr style=\"text-align: right;\">\n",
       "      <th></th>\n",
       "      <th>Id</th>\n",
       "      <th>PostId</th>\n",
       "      <th>VoteTypeId</th>\n",
       "      <th>CreationDate</th>\n",
       "      <th>UserId</th>\n",
       "      <th>BountyAmount</th>\n",
       "    </tr>\n",
       "  </thead>\n",
       "  <tbody>\n",
       "    <tr>\n",
       "      <th>0</th>\n",
       "      <td>1</td>\n",
       "      <td>1</td>\n",
       "      <td>2</td>\n",
       "      <td>2011-06-21T00:00:00.000</td>\n",
       "      <td>NaN</td>\n",
       "      <td>NaN</td>\n",
       "    </tr>\n",
       "    <tr>\n",
       "      <th>1</th>\n",
       "      <td>2</td>\n",
       "      <td>1</td>\n",
       "      <td>2</td>\n",
       "      <td>2011-06-21T00:00:00.000</td>\n",
       "      <td>NaN</td>\n",
       "      <td>NaN</td>\n",
       "    </tr>\n",
       "    <tr>\n",
       "      <th>2</th>\n",
       "      <td>3</td>\n",
       "      <td>2</td>\n",
       "      <td>2</td>\n",
       "      <td>2011-06-21T00:00:00.000</td>\n",
       "      <td>NaN</td>\n",
       "      <td>NaN</td>\n",
       "    </tr>\n",
       "    <tr>\n",
       "      <th>3</th>\n",
       "      <td>4</td>\n",
       "      <td>3</td>\n",
       "      <td>2</td>\n",
       "      <td>2011-06-21T00:00:00.000</td>\n",
       "      <td>NaN</td>\n",
       "      <td>NaN</td>\n",
       "    </tr>\n",
       "    <tr>\n",
       "      <th>4</th>\n",
       "      <td>5</td>\n",
       "      <td>5</td>\n",
       "      <td>5</td>\n",
       "      <td>2011-06-21T00:00:00.000</td>\n",
       "      <td>13.0</td>\n",
       "      <td>NaN</td>\n",
       "    </tr>\n",
       "  </tbody>\n",
       "</table>\n",
       "</div>"
      ],
      "text/plain": [
       "   Id  PostId  VoteTypeId             CreationDate  UserId  BountyAmount\n",
       "0   1       1           2  2011-06-21T00:00:00.000     NaN           NaN\n",
       "1   2       1           2  2011-06-21T00:00:00.000     NaN           NaN\n",
       "2   3       2           2  2011-06-21T00:00:00.000     NaN           NaN\n",
       "3   4       3           2  2011-06-21T00:00:00.000     NaN           NaN\n",
       "4   5       5           5  2011-06-21T00:00:00.000    13.0           NaN"
      ]
     },
     "execution_count": 462,
     "metadata": {},
     "output_type": "execute_result"
    }
   ],
   "source": [
    "Votes.head()"
   ]
  },
  {
   "cell_type": "markdown",
   "metadata": {},
   "source": [
    "Now, we can create a function that will select only the needed data."
   ]
  },
  {
   "cell_type": "code",
   "execution_count": 542,
   "metadata": {
    "pycharm": {
     "name": "#%%\n"
    }
   },
   "outputs": [
    {
     "name": "stdout",
     "output_type": "stream",
     "text": [
      "                                               Title  OldVotes\n",
      "0                       How to avoid drinking vodka?     203.0\n",
      "1         How can I do a \"broad\" search for flights?     176.0\n",
      "2  How to convince airport security that I am not...     120.0\n",
      "3        Can I accidentally miss the in-flight food?     117.0\n",
      "4                         Can I fly with a gold bar?     114.0\n",
      "5  How can black travellers deal with unwanted ha...     113.0\n",
      "6  Best way to dispose of a carry-on bag in Hong ...     110.0\n",
      "7  How do you avoid \"tourist traps\" when travelin...     107.0\n",
      "8             Why are there no seat belts on trains?     107.0\n",
      "9           How to spot fake reviews on TripAdvisor?      99.0\n"
     ]
    }
   ],
   "source": [
    "VotesByAge = Votes[(Votes[\"VoteTypeId\"] == 1) | Votes[\"VoteTypeId\"] == 2 | (Votes[\"VoteTypeId\"] == 5)][[\"PostId\", \"CreationDate\"]]\n",
    "VotesByAge[\"CreationDate\"] = pd.to_datetime(VotesByAge[\"CreationDate\"]).dt.strftime(\"%Y\")\n",
    "VotesByAge[\"VoteDate\"] = np.select([(VotesByAge[\"CreationDate\"] == \"2020\") | (VotesByAge[\"CreationDate\"] == \"2021\"), (VotesByAge[\"CreationDate\"] != \"2020\") & (VotesByAge[\"CreationDate\"] != \"2021\")], [\"new\", \"old\"])\n",
    "VotesByAge[\"Total\"] = VotesByAge.groupby(['PostId', 'VoteDate']).transform(\"count\")\n",
    "new = VotesByAge.loc[VotesByAge[\"VoteDate\"] == \"new\"].rename(columns={\"Total\": \"NewVotes\"})\n",
    "old = VotesByAge.loc[VotesByAge[\"VoteDate\"] == \"old\"].rename(columns={\"Total\": \"OldVotes\"})\n",
    "VotesByAge2 = pd.merge(new, old, how=\"outer\", on=\"PostId\").fillna(0)\n",
    "VotesByAge2 = VotesByAge2[VotesByAge2[\"VoteDate_x\"] == 0].reset_index(drop=True)\n",
    "VotesByAge2 = VotesByAge2[[\"PostId\", \"NewVotes\", \"OldVotes\"]]\n",
    "df = Posts.loc[Posts[\"PostTypeId\"] == 1][[\"Title\", \"Id\"]]\n",
    "df = pd.merge(df, VotesByAge2, left_on=\"Id\", right_on=\"PostId\")\n",
    "df = df[[\"Title\", \"OldVotes\"]]\n",
    "df = df.sort_values(by=[\"OldVotes\"], ascending=False).drop_duplicates().reset_index(drop=True).head(10)\n",
    "print(df)"
   ]
  },
  {
   "cell_type": "code",
   "execution_count": null,
   "metadata": {
    "pycharm": {
     "name": "#%%\n"
    }
   },
   "outputs": [],
   "source": []
  }
 ],
 "metadata": {
  "kernelspec": {
   "display_name": "Python 3 (ipykernel)",
   "language": "python",
   "name": "python3"
  },
  "language_info": {
   "codemirror_mode": {
    "name": "ipython",
    "version": 3
   },
   "file_extension": ".py",
   "mimetype": "text/x-python",
   "name": "python",
   "nbconvert_exporter": "python",
   "pygments_lexer": "ipython3",
   "version": "3.8.12"
  }
 },
 "nbformat": 4,
 "nbformat_minor": 1
}
